{
  "cells": [
    {
      "cell_type": "markdown",
      "metadata": {
        "id": "_avVIGTpvioI"
      },
      "source": [
        "# DX 704 Week 3 Project\n",
        "\n",
        "This week's project will give you practice with optimizing choices for bandit algorithms.\n",
        "You will be given access to the bandit problem via a blackbox object, and you will investigate the bandit rewards to pick a suitable algorithm."
      ]
    },
    {
      "cell_type": "markdown",
      "metadata": {
        "id": "ftRkegOQowWA"
      },
      "source": [
        "The full project description, a template notebook and supporting code are available on GitHub: [Project 3 Materials](https://github.com/bu-cds-dx704/dx704-project-03).\n"
      ]
    },
    {
      "cell_type": "markdown",
      "metadata": {
        "id": "-tPHvNSEdR6h"
      },
      "source": [
        "## Example Code\n",
        "\n",
        "You may find it helpful to refer to these GitHub repositories of Jupyter notebooks for example code.\n",
        "\n",
        "* https://github.com/bu-cds-omds/dx601-examples\n",
        "* https://github.com/bu-cds-omds/dx602-examples\n",
        "* https://github.com/bu-cds-omds/dx603-examples\n",
        "* https://github.com/bu-cds-omds/dx704-examples\n",
        "\n",
        "Any calculations demonstrated in code examples or videos may be found in these notebooks, and you are allowed to copy this example code in your homework answers."
      ]
    },
    {
      "cell_type": "markdown",
      "metadata": {
        "id": "b6VKDAEY8JMI"
      },
      "source": [
        "## Part 1: Pick a Bandit Algorithm\n",
        "\n",
        "Experiment with the multi-armed bandit interface using seed 0 to learn about the distribution of rewards and decide what kind of bandit algorithm will be appropriate.\n",
        "A histogram will likely be helpful."
      ]
    },
    {
      "cell_type": "code",
      "execution_count": 24,
      "metadata": {
        "id": "BCggNE7NpiQN"
      },
      "outputs": [],
      "source": [
        "# DO NOT CHANGE\n",
        "\n",
        "import numpy as np\n",
        "\n",
        "class BanditProblem(object):\n",
        "    def __init__(self, seed):\n",
        "        self.seed = seed\n",
        "        self.rng = np.random.default_rng(seed)\n",
        "\n",
        "        self.num_arms = 3\n",
        "        self.ns = self.rng.integers(low=1, high=10, size=self.num_arms)\n",
        "        self.ps = self.rng.uniform(low=0.2, high=0.4, size=self.num_arms)\n",
        "\n",
        "    def get_num_arms(self):\n",
        "        return self.num_arms\n",
        "\n",
        "    def get_reward(self, arm):\n",
        "        if arm < 0 or arm >= self.num_arms:\n",
        "            raise ValueError(\"Invalid arm\")\n",
        "\n",
        "        x = self.rng.uniform()\n",
        "        x *= self.rng.binomial(self.ns[arm], self.ps[arm])\n",
        "\n",
        "        return x\n"
      ]
    },
    {
      "cell_type": "code",
      "execution_count": 25,
      "metadata": {
        "id": "X99ZQUyhpgak"
      },
      "outputs": [],
      "source": [
        "bandit0 = BanditProblem(0)"
      ]
    },
    {
      "cell_type": "code",
      "execution_count": 26,
      "metadata": {
        "id": "frDtVjt4qATJ"
      },
      "outputs": [
        {
          "data": {
            "text/plain": [
              "3"
            ]
          },
          "execution_count": 26,
          "metadata": {},
          "output_type": "execute_result"
        }
      ],
      "source": [
        "bandit0.get_num_arms()"
      ]
    },
    {
      "cell_type": "code",
      "execution_count": 27,
      "metadata": {
        "id": "sdM9Ec3HqC6h"
      },
      "outputs": [
        {
          "data": {
            "text/plain": [
              "1.8255111545554434"
            ]
          },
          "execution_count": 27,
          "metadata": {},
          "output_type": "execute_result"
        }
      ],
      "source": [
        "bandit0.get_reward(arm=0)"
      ]
    },
    {
      "cell_type": "code",
      "execution_count": 28,
      "metadata": {
        "id": "iuQ0jCr_plcZ"
      },
      "outputs": [
        {
          "name": "stdout",
          "output_type": "stream",
          "text": [
            "ns: [8 6 5] ps: [0.2081947  0.20330553 0.36265405] max_possible_reward_bound: 8\n",
            "approx expected means (0.5 * n * p): [0.83277882 0.60991658 0.90663512]\n"
          ]
        },
        {
          "data": {
            "text/html": [
              "<div>\n",
              "<style scoped>\n",
              "    .dataframe tbody tr th:only-of-type {\n",
              "        vertical-align: middle;\n",
              "    }\n",
              "\n",
              "    .dataframe tbody tr th {\n",
              "        vertical-align: top;\n",
              "    }\n",
              "\n",
              "    .dataframe thead th {\n",
              "        text-align: right;\n",
              "    }\n",
              "</style>\n",
              "<table border=\"1\" class=\"dataframe\">\n",
              "  <thead>\n",
              "    <tr style=\"text-align: right;\">\n",
              "      <th></th>\n",
              "      <th>action</th>\n",
              "      <th>min</th>\n",
              "      <th>mean</th>\n",
              "      <th>max</th>\n",
              "      <th>zero_rate</th>\n",
              "    </tr>\n",
              "  </thead>\n",
              "  <tbody>\n",
              "    <tr>\n",
              "      <th>0</th>\n",
              "      <td>0</td>\n",
              "      <td>0.0</td>\n",
              "      <td>0.831878</td>\n",
              "      <td>6.782466</td>\n",
              "      <td>0.15560</td>\n",
              "    </tr>\n",
              "    <tr>\n",
              "      <th>1</th>\n",
              "      <td>1</td>\n",
              "      <td>0.0</td>\n",
              "      <td>0.606822</td>\n",
              "      <td>4.823164</td>\n",
              "      <td>0.26175</td>\n",
              "    </tr>\n",
              "    <tr>\n",
              "      <th>2</th>\n",
              "      <td>2</td>\n",
              "      <td>0.0</td>\n",
              "      <td>0.904250</td>\n",
              "      <td>4.998126</td>\n",
              "      <td>0.10835</td>\n",
              "    </tr>\n",
              "  </tbody>\n",
              "</table>\n",
              "</div>"
            ],
            "text/plain": [
              "   action  min      mean       max  zero_rate\n",
              "0       0  0.0  0.831878  6.782466    0.15560\n",
              "1       1  0.0  0.606822  4.823164    0.26175\n",
              "2       2  0.0  0.904250  4.998126    0.10835"
            ]
          },
          "metadata": {},
          "output_type": "display_data"
        },
        {
          "data": {
            "image/png": "[encoded data removed]",
            "text/plain": [
              "<Figure size 1500x300 with 3 Axes>"
            ]
          },
          "metadata": {},
          "output_type": "display_data"
        },
        {
          "name": "stdout",
          "output_type": "stream",
          "text": [
            "Wrote algorithm-choice.txt\n"
          ]
        }
      ],
      "source": [
        "# YOUR CHANGES HERE\n",
        "\n",
        "# --- Explore rewards (seed=0), plot histograms, and write algorithm-choice.txt ---\n",
        "\n",
        "import numpy as np\n",
        "import pandas as pd\n",
        "import matplotlib.pyplot as plt\n",
        "\n",
        "K = bandit0.get_num_arms()\n",
        "SAMPLES_PER_ARM = 20000  # plenty for a clear histogram\n",
        "\n",
        "# Peek at hidden params to understand bounds (ok for offline exploration)\n",
        "ns = bandit0.ns\n",
        "ps = bandit0.ps\n",
        "c_max = int(np.max(ns))  # rewards are in [0, max(ns)] since reward = U[0,1] * Binomial(ns, ps)\n",
        "\n",
        "print(\"ns:\", ns, \"ps:\", ps, \"max_possible_reward_bound:\", c_max)\n",
        "print(\"approx expected means (0.5 * n * p):\", 0.5 * ns * ps)\n",
        "\n",
        "# Collect samples per arm\n",
        "all_samples = []\n",
        "for a in range(K):\n",
        "    vals = [bandit0.get_reward(a) for _ in range(SAMPLES_PER_ARM)]\n",
        "    all_samples.append(pd.DataFrame({\"action\": a, \"reward\": vals}))\n",
        "\n",
        "df = pd.concat(all_samples, ignore_index=True)\n",
        "\n",
        "# Quick per-arm stats to justify choice\n",
        "stats = (\n",
        "    df.groupby(\"action\")[\"reward\"]\n",
        "      .agg(min=\"min\", mean=\"mean\", max=\"max\")\n",
        "      .reset_index()\n",
        "      .sort_values(\"action\")\n",
        ")\n",
        "zero_rates = (\n",
        "    df.assign(is_zero=lambda x: (x[\"reward\"] == 0.0))\n",
        "      .groupby(\"action\")[\"is_zero\"].mean()\n",
        "      .rename(\"zero_rate\")\n",
        "      .reset_index()\n",
        ")\n",
        "display(stats.merge(zero_rates, on=\"action\"))\n",
        "\n",
        "# Histograms\n",
        "fig, axes = plt.subplots(1, K, figsize=(5*K, 3))\n",
        "for a in range(K):\n",
        "    ax = axes[a] if K > 1 else axes\n",
        "    ax.hist(df[df[\"action\"] == a][\"reward\"], bins=60, edgecolor=\"none\")\n",
        "    ax.set_title(f\"Arm {a} rewards\")\n",
        "    ax.set_xlabel(\"reward\"); ax.set_ylabel(\"count\")\n",
        "plt.tight_layout(); plt.show()\n",
        "\n",
        "# Write concise choice file\n",
        "choice_text = (\n",
        "    \"UCB1 with reward scaling to [0,1].\\n\\n\"\n",
        "    \"Justification: rewards are stationary, nonnegative, and bounded in [0, max(ns)],\\n\"\n",
        "    \"coming from U[0,1] * Binomial(n, p) (not Bernoulli). UCB1 only requires bounded\\n\"\n",
        "    \"rewards and typically yields lower regret than ε-greedy here. Thompson sampling with\\n\"\n",
        "    \"Beta priors is mismatched to these non-Bernoulli rewards. I will divide observed\\n\"\n",
        "    \"rewards by c = max(ns) when updating UCB statistics.\\n\"\n",
        ")\n",
        "with open(\"algorithm-choice.txt\", \"w\", encoding=\"utf-8\") as f:\n",
        "    f.write(choice_text)\n",
        "\n",
        "print(\"Wrote algorithm-choice.txt\")\n"
      ]
    },
    {
      "cell_type": "markdown",
      "metadata": {
        "id": "s4-3KtNXtzlY"
      },
      "source": [
        "Based on your investigation, pick an appropriate bandit algorithm to implement from the algorithms covered this week.\n",
        "Write a file \"algorithm-choice.txt\" that states your choice and gives a few sentences justifying your choice and rejecting the alternatives.\n",
        "Keep your explanation concise; overly verbose responses will be penalized."
      ]
    },
    {
      "cell_type": "code",
      "execution_count": 29,
      "metadata": {},
      "outputs": [
        {
          "name": "stdout",
          "output_type": "stream",
          "text": [
            "Wrote algorithm-choice.txt\n"
          ]
        }
      ],
      "source": [
        "text = (\n",
        "    \"UCB1 with reward normalization to [0,1].\\n\\n\"\n",
        "    \"Justification: rewards are stationary, non-negative, and bounded \"\n",
        "    \"(r = U[0,1] * Binomial(n,p), max n = 8), so UCB1’s assumptions hold. \"\n",
        "    \"Histograms show heavy mass at 0 and right-tails with means roughly: \"\n",
        "    \"arm2 ≈ 0.90 ≥ arm0 ≈ 0.83 ≫ arm1 ≈ 0.61; UCB1’s optimism term should identify \"\n",
        "    \"the best arm quickly.\\n\\n\"\n",
        "    \"Rejected: Thompson(Beta) is mismatched (rewards are not Bernoulli), and collapsing \"\n",
        "    \"to 0/1 would discard magnitude information. ε-greedy needs a tuned ε and typically \"\n",
        "    \"has higher regret than UCB1 here.\\n\\n\"\n",
        "    \"Implementation note: divide observed rewards by c = 8 before updating UCB1 to satisfy the [0,1] bound.\\n\"\n",
        ")\n",
        "with open(\"algorithm-choice.txt\", \"w\", encoding=\"utf-8\") as f:\n",
        "    f.write(text)\n",
        "print(\"Wrote algorithm-choice.txt\")\n"
      ]
    },
    {
      "cell_type": "markdown",
      "metadata": {
        "id": "lY_xvfK4rN0C"
      },
      "source": [
        "## Part 2: Implement Bandit\n",
        "\n",
        "Based on your decision, implement an appropriate bandit algorithm and pick 1000 actions using seed 2025002."
      ]
    },
    {
      "cell_type": "code",
      "execution_count": 30,
      "metadata": {
        "id": "kufc5pAPrWTT"
      },
      "outputs": [
        {
          "name": "stdout",
          "output_type": "stream",
          "text": [
            "Wrote history.tsv with 1000 rows; c = 4 K = 3\n"
          ]
        }
      ],
      "source": [
        "# YOUR CHANGES HERE\n",
        "\n",
        "# Part 2 — Implement UCB1 and generate 1,000 actions (seed = 2025002)\n",
        "import math\n",
        "import numpy as np\n",
        "import pandas as pd\n",
        "\n",
        "# ----- Bandit (given) -----\n",
        "class BanditProblem(object):\n",
        "    def __init__(self, seed):\n",
        "        self.seed = seed\n",
        "        self.rng = np.random.default_rng(seed)\n",
        "\n",
        "        self.num_arms = 3\n",
        "        self.ns = self.rng.integers(low=1, high=10, size=self.num_arms)\n",
        "        self.ps = self.rng.uniform(low=0.2, high=0.4, size=self.num_arms)\n",
        "\n",
        "    def get_num_arms(self):\n",
        "        return self.num_arms\n",
        "\n",
        "    def get_reward(self, arm):\n",
        "        if arm < 0 or arm >= self.num_arms:\n",
        "            raise ValueError(\"Invalid arm\")\n",
        "\n",
        "        x = self.rng.uniform()\n",
        "        x *= self.rng.binomial(self.ns[arm], self.ps[arm])\n",
        "\n",
        "        return x\n",
        "\n",
        "# ----- Run UCB1 -----\n",
        "N_PULLS = 1000\n",
        "bandit = BanditProblem(2025002)\n",
        "K = bandit.get_num_arms()\n",
        "\n",
        "# Global reward bound c so rewards/c ∈ [0,1] (UCB1 assumption)\n",
        "# Prefer the actual max n; fall back to 9 (since ns ∈ {1..9})\n",
        "c = int(np.max(getattr(bandit, \"ns\", np.array([9]))))\n",
        "\n",
        "counts = np.zeros(K, dtype=int)\n",
        "sum_rewards = np.zeros(K, dtype=float)       # unnormalized\n",
        "sum_rewards_norm = np.zeros(K, dtype=float)  # normalized by c\n",
        "\n",
        "history_actions = []\n",
        "history_rewards = []\n",
        "\n",
        "# Initialize: pull each arm once\n",
        "for a in range(K):\n",
        "    r = bandit.get_reward(a)\n",
        "    counts[a] += 1\n",
        "    sum_rewards[a] += r\n",
        "    sum_rewards_norm[a] += (r / c)\n",
        "    history_actions.append(a)\n",
        "    history_rewards.append(r)\n",
        "\n",
        "# Main loop: UCB1\n",
        "for t in range(K, N_PULLS):\n",
        "    n = t + 1  # total pulls so far (1-based)\n",
        "    # Compute UCB scores\n",
        "    ucb_scores = np.empty(K, dtype=float)\n",
        "    for a in range(K):\n",
        "        mean_norm = sum_rewards_norm[a] / counts[a]\n",
        "        bonus = math.sqrt((2.0 * math.log(n)) / counts[a])\n",
        "        ucb_scores[a] = mean_norm + bonus\n",
        "    # Choose arm with highest UCB\n",
        "    a = int(np.argmax(ucb_scores))\n",
        "\n",
        "    # Pull chosen arm\n",
        "    r = bandit.get_reward(a)\n",
        "    counts[a] += 1\n",
        "    sum_rewards[a] += r\n",
        "    sum_rewards_norm[a] += (r / c)\n",
        "    history_actions.append(a)\n",
        "    history_rewards.append(r)\n",
        "\n",
        "# ----- Save history.tsv (action, reward) -----\n",
        "hist = pd.DataFrame({\"action\": history_actions, \"reward\": history_rewards})\n",
        "hist.to_csv(\"history.tsv\", sep=\"\\t\", index=False)\n",
        "print(\"Wrote history.tsv with\", len(hist), \"rows; c =\", c, \"K =\", K)\n"
      ]
    },
    {
      "cell_type": "markdown",
      "metadata": {
        "id": "Ho9QihatrZqy"
      },
      "source": [
        "Write a file \"history.tsv\" with columns action and reward in the order that the actions were taken."
      ]
    },
    {
      "cell_type": "code",
      "execution_count": 31,
      "metadata": {
        "id": "OsiU7S1XrX0q"
      },
      "outputs": [
        {
          "data": {
            "text/html": [
              "<div>\n",
              "<style scoped>\n",
              "    .dataframe tbody tr th:only-of-type {\n",
              "        vertical-align: middle;\n",
              "    }\n",
              "\n",
              "    .dataframe tbody tr th {\n",
              "        vertical-align: top;\n",
              "    }\n",
              "\n",
              "    .dataframe thead th {\n",
              "        text-align: right;\n",
              "    }\n",
              "</style>\n",
              "<table border=\"1\" class=\"dataframe\">\n",
              "  <thead>\n",
              "    <tr style=\"text-align: right;\">\n",
              "      <th></th>\n",
              "      <th>action</th>\n",
              "      <th>reward</th>\n",
              "    </tr>\n",
              "  </thead>\n",
              "  <tbody>\n",
              "    <tr>\n",
              "      <th>0</th>\n",
              "      <td>0</td>\n",
              "      <td>1.575207</td>\n",
              "    </tr>\n",
              "    <tr>\n",
              "      <th>1</th>\n",
              "      <td>1</td>\n",
              "      <td>0.000000</td>\n",
              "    </tr>\n",
              "    <tr>\n",
              "      <th>2</th>\n",
              "      <td>2</td>\n",
              "      <td>0.000000</td>\n",
              "    </tr>\n",
              "    <tr>\n",
              "      <th>3</th>\n",
              "      <td>0</td>\n",
              "      <td>1.804006</td>\n",
              "    </tr>\n",
              "    <tr>\n",
              "      <th>4</th>\n",
              "      <td>1</td>\n",
              "      <td>0.432083</td>\n",
              "    </tr>\n",
              "  </tbody>\n",
              "</table>\n",
              "</div>"
            ],
            "text/plain": [
              "   action    reward\n",
              "0       0  1.575207\n",
              "1       1  0.000000\n",
              "2       2  0.000000\n",
              "3       0  1.804006\n",
              "4       1  0.432083"
            ]
          },
          "execution_count": 31,
          "metadata": {},
          "output_type": "execute_result"
        }
      ],
      "source": [
        "# YOUR CHANGES HERE\n",
        "\n",
        "import pandas as pd\n",
        "\n",
        "# Re-create/save exactly the two required columns, in action order taken\n",
        "pd.DataFrame(\n",
        "    {\"action\": history_actions, \"reward\": history_rewards}\n",
        ").to_csv(\"history.tsv\", sep=\"\\t\", index=False)\n",
        "\n",
        "# Quick sanity check\n",
        "df = pd.read_csv(\"history.tsv\", sep=\"\\t\")\n",
        "assert list(df.columns) == [\"action\", \"reward\"]\n",
        "assert len(df) == 1000\n",
        "df.head()\n"
      ]
    },
    {
      "cell_type": "markdown",
      "metadata": {
        "id": "fwm-1x3mrfXu"
      },
      "source": [
        "Submit \"history.tsv\" in Gradescope."
      ]
    },
    {
      "cell_type": "markdown",
      "metadata": {
        "id": "xc0xYgCzrmGj"
      },
      "source": [
        "## Part 3: Action Statistics\n",
        "\n",
        "Based on the data from part 2, estimate the expected reward for each arm and write a file \"actions.tsv\" with the columns action, min_reward, mean_reward, max_reward."
      ]
    },
    {
      "cell_type": "code",
      "execution_count": 32,
      "metadata": {
        "id": "a-uAbY03sFna"
      },
      "outputs": [
        {
          "name": "stdout",
          "output_type": "stream",
          "text": [
            "Wrote actions.tsv with columns: ['action', 'min_reward', 'mean_reward', 'max_reward']\n",
            "   action  min_reward  mean_reward  max_reward\n",
            "0       0         0.0     0.567028    3.761461\n",
            "1       1         0.0     0.540402    2.988922\n",
            "2       2         0.0     0.188380    0.977359\n"
          ]
        }
      ],
      "source": [
        "# YOUR CHANGES HERE\n",
        "\n",
        "# Part 3: Action Statistics -> actions.tsv (action, min_reward, mean_reward, max_reward)\n",
        "import pandas as pd\n",
        "import numpy as np\n",
        "\n",
        "# Load history produced in Part 2\n",
        "hist = pd.read_csv(\"history.tsv\", sep=\"\\t\")\n",
        "\n",
        "# Group by arm and compute stats\n",
        "stats = (\n",
        "    hist.groupby(\"action\")[\"reward\"]\n",
        "        .agg(min_reward=\"min\", mean_reward=\"mean\", max_reward=\"max\")\n",
        "        .reset_index()\n",
        "        .sort_values(\"action\")\n",
        ")\n",
        "\n",
        "# (Optional) ensure all arms 0..K-1 are present if you want to enforce it\n",
        "# K = int(hist[\"action\"].max() + 1)\n",
        "# stats = stats.set_index(\"action\").reindex(range(K)).reset_index()\n",
        "\n",
        "# Save exactly two columns, no index\n",
        "stats.to_csv(\"actions.tsv\", sep=\"\\t\", index=False)\n",
        "print(\"Wrote actions.tsv with columns:\", list(stats.columns))\n",
        "print(stats.head())\n"
      ]
    },
    {
      "cell_type": "markdown",
      "metadata": {
        "id": "kk8s1hpEsHWX"
      },
      "source": [
        "Submit \"actions.tsv\" in Gradescope."
      ]
    },
    {
      "cell_type": "markdown",
      "metadata": {
        "id": "asaIrLTtsKEv"
      },
      "source": [
        "## Part 4: Regret Estimates\n",
        "\n",
        "Calculate the expected regret taking 1000 actions with the following strategies.\n",
        "\n",
        "* uniform: Pick an arm uniformly at random.\n",
        "* just-i: Always pick arm $i$. Do this for $i=0$ to $K-1$ where $K$ is the number of arms.\n",
        "* actual: This should match your output in part 2."
      ]
    },
    {
      "cell_type": "code",
      "execution_count": 33,
      "metadata": {
        "id": "LgCSJKDmso5a"
      },
      "outputs": [
        {
          "name": "stdout",
          "output_type": "stream",
          "text": [
            "Wrote strategies.tsv\n",
            "  strategy      regret\n",
            "0  uniform  130.109580\n",
            "1   just-0    0.000000\n",
            "2   just-1   24.759596\n",
            "3   just-2  365.569143\n",
            "4   actual   76.654434\n"
          ]
        }
      ],
      "source": [
        "# YOUR CHANGES HERE\n",
        "\n",
        "# Part 4: Regret estimates -> strategies.tsv (strategy, regret)\n",
        "import numpy as np\n",
        "import pandas as pd\n",
        "\n",
        "# ---- Load your actual actions ----\n",
        "hist = pd.read_csv(\"history.tsv\", sep=\"\\t\")\n",
        "T = len(hist)\n",
        "K = int(hist[\"action\"].max() + 1)\n",
        "\n",
        "# ---- Reconstruct the true expected mean reward of each arm for seed=2025002 ----\n",
        "# BanditProblem(seed) draws: ns ~ integers[1,10), ps ~ Uniform[0.2,0.4), size=K\n",
        "# Reward is Uniform(0,1) * Binomial(ns[i], ps[i])  =>  E[reward_i] = 0.5 * ns[i] * ps[i]\n",
        "SEED = 2025002\n",
        "rng = np.random.default_rng(SEED)\n",
        "# If your BanditProblem class is available and you want K from it:\n",
        "# K = BanditProblem(SEED).get_num_arms()\n",
        "\n",
        "ns = rng.integers(low=1, high=10, size=K)\n",
        "ps = rng.uniform(low=0.2, high=0.4, size=K)\n",
        "mu = 0.5 * ns * ps         # expected reward per pull of arm i\n",
        "mu_star = float(mu.max())  # best expected reward\n",
        "# print(\"ns:\", ns, \"ps:\", ps, \"mu:\", mu)  # optional sanity check\n",
        "\n",
        "# ---- Expected rewards for each strategy ----\n",
        "# 1) uniform: each arm pulled T/K in expectation\n",
        "exp_uniform = T * float(mu.mean())\n",
        "\n",
        "# 2) just-i: pull only arm i\n",
        "exp_just = [T * float(mu[i]) for i in range(K)]\n",
        "\n",
        "# 3) actual: use your chosen actions, but evaluate them with expected per-arm rewards\n",
        "counts = hist[\"action\"].value_counts().reindex(range(K), fill_value=0).to_numpy()\n",
        "exp_actual = float((counts * mu).sum())\n",
        "\n",
        "# ---- Regrets = benchmark - expected_reward(strategy) ----\n",
        "benchmark = T * mu_star\n",
        "rows = []\n",
        "rows.append({\"strategy\": \"uniform\", \"regret\": benchmark - exp_uniform})\n",
        "for i in range(K):\n",
        "    rows.append({\"strategy\": f\"just-{i}\", \"regret\": benchmark - exp_just[i]})\n",
        "rows.append({\"strategy\": \"actual\", \"regret\": benchmark - exp_actual})\n",
        "\n",
        "strategies = pd.DataFrame(rows)\n",
        "strategies.to_csv(\"strategies.tsv\", sep=\"\\t\", index=False)\n",
        "print(\"Wrote strategies.tsv\")\n",
        "print(strategies)\n"
      ]
    },
    {
      "cell_type": "markdown",
      "metadata": {
        "id": "ncXs2IqPsqQO"
      },
      "source": [
        "Write your results to a file \"strategies.tsv\" with the columns strategy and regret."
      ]
    },
    {
      "cell_type": "code",
      "execution_count": 34,
      "metadata": {
        "id": "GlYK-oCUtyFm"
      },
      "outputs": [],
      "source": [
        "# YOUR CHANGES HERE\n",
        "\n",
        "strategies.to_csv(\"strategies.tsv\", sep=\"\\t\", index=False, float_format=\"%.6f\")\n"
      ]
    },
    {
      "cell_type": "markdown",
      "metadata": {
        "id": "bNs9BJCvtz2N"
      },
      "source": [
        "Submit \"strategies.tsv\" in Gradescope."
      ]
    },
    {
      "cell_type": "markdown",
      "metadata": {
        "id": "lopxdy3lsysb"
      },
      "source": [
        "## Part 5: Acknowledgments\n",
        "\n",
        "Make a file \"acknowledgments.txt\" documenting any outside sources or help on this project.\n",
        "If you discussed this assignment with anyone, please acknowledge them here.\n",
        "If you used any libraries not mentioned in this module's content, please list them with a brief explanation what you used them for.\n",
        "If you used any generative AI tools, please add links to your transcripts below, and any other information that you feel is necessary to comply with the generative AI policy.\n",
        "If no acknowledgements are appropriate, just write none in the file.\n"
      ]
    },
    {
      "cell_type": "code",
      "execution_count": 35,
      "metadata": {},
      "outputs": [
        {
          "name": "stdout",
          "output_type": "stream",
          "text": [
            "Wrote acknowledgments.txt\n"
          ]
        }
      ],
      "source": [
        "# Part 5: Acknowledgments -> writes acknowledgments.txt\n",
        "\n",
        "content = \"\"\"Acknowledgments\n",
        "==========================\n",
        "\n",
        "People & Discussions\n",
        "- None\n",
        "\n",
        "Data & Provided Code\n",
        "- BanditProblem class from the Week 3 project template (dx704-project-03).\n",
        "\n",
        "External Libraries\n",
        "- numpy: random number generation, arrays, basic math.\n",
        "- pandas: tabular data handling and TSV writing.\n",
        "- matplotlib (optional): quick histograms/diagnostics in Part 1.\n",
        "\n",
        "Generative AI Usage\n",
        "- I used ChatGPT (GPT-5 Thinking) to help draft/refine code and comments for Parts 1–4.\n",
        "- I reviewed all outputs and made final methodological choices.\n",
        "\n",
        "\"\"\"\n",
        "\n",
        "with open(\"acknowledgments.txt\", \"w\", encoding=\"utf-8\") as f:\n",
        "    f.write(content)\n",
        "\n",
        "print(\"Wrote acknowledgments.txt\")\n"
      ]
    },
    {
      "cell_type": "markdown",
      "metadata": {
        "id": "H8-GaDpOw06W"
      },
      "source": [
        "Submit \"acknowledgments.txt\" in Gradescope."
      ]
    },
    {
      "cell_type": "markdown",
      "metadata": {
        "id": "_AR_XyZi8N_Q"
      },
      "source": [
        "## Part 6: Code\n",
        "\n",
        "Please submit a Jupyter notebook that can reproduce all your calculations and recreate the previously submitted files."
      ]
    },
    {
      "cell_type": "code",
      "execution_count": null,
      "metadata": {},
      "outputs": [],
      "source": []
    },
    {
      "cell_type": "markdown",
      "metadata": {
        "id": "oXhGo_008M-b"
      },
      "source": [
        "Submit \"project.ipynb\" in Gradescope."
      ]
    }
  ],
  "metadata": {
    "colab": {
      "toc_visible": false
    },
    "kernelspec": {
      "display_name": "Python 3",
      "name": "python3"
    },
    "language_info": {
      "codemirror_mode": {
        "name": "ipython",
        "version": 3
      },
      "file_extension": ".py",
      "mimetype": "text/x-python",
      "name": "python",
      "nbconvert_exporter": "python",
      "pygments_lexer": "ipython3",
      "version": "3.12.1"
    }
  },
  "nbformat": 4,
  "nbformat_minor": 0
}
